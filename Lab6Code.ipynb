{
 "cells": [
  {
   "cell_type": "code",
   "execution_count": 1,
   "metadata": {},
   "outputs": [
    {
     "name": "stdin",
     "output_type": "stream",
     "text": [
      "Enter a name Kyle\n",
      "What's your favorite fast food place? McDonalds\n"
     ]
    },
    {
     "name": "stdout",
     "output_type": "stream",
     "text": [
      "Kyle sorry to break it to you, but McDonalds is trash\n"
     ]
    }
   ],
   "source": [
    "# comment\n",
    "name= input(\"Enter a name\")\n",
    "fastFood= input(\"What's your favorite fast food place?\")\n",
    "\n",
    "print(name,\"sorry to break it to you, but\", fastFood, \"is trash\")\n"
   ]
  }
 ],
 "metadata": {
  "kernelspec": {
   "display_name": "Python 3",
   "language": "python",
   "name": "python3"
  },
  "language_info": {
   "codemirror_mode": {
    "name": "ipython",
    "version": 3
   },
   "file_extension": ".py",
   "mimetype": "text/x-python",
   "name": "python",
   "nbconvert_exporter": "python",
   "pygments_lexer": "ipython3",
   "version": "3.8.3"
  }
 },
 "nbformat": 4,
 "nbformat_minor": 4
}
